{
  "nbformat": 4,
  "nbformat_minor": 0,
  "metadata": {
    "colab": {
      "provenance": [],
      "authorship_tag": "ABX9TyPNTIZE3KTJvkFxVcJA2j/t",
      "include_colab_link": true
    },
    "kernelspec": {
      "name": "python3",
      "display_name": "Python 3"
    },
    "language_info": {
      "name": "python"
    }
  },
  "cells": [
    {
      "cell_type": "markdown",
      "metadata": {
        "id": "view-in-github",
        "colab_type": "text"
      },
      "source": [
        "<a href=\"https://colab.research.google.com/github/Sayed-Ali-Raza-Naqvi/mlops-zoomcamp-homeworks/blob/main/Homework_Module1.ipynb\" target=\"_parent\"><img src=\"https://colab.research.google.com/assets/colab-badge.svg\" alt=\"Open In Colab\"/></a>"
      ]
    },
    {
      "cell_type": "code",
      "source": [
        "import pandas as pd\n",
        "import pyarrow\n",
        "from sklearn.feature_extraction import DictVectorizer\n",
        "from sklearn.linear_model import LinearRegression\n",
        "from sklearn.metrics import mean_squared_error"
      ],
      "metadata": {
        "id": "6YjzmkmZvAl0"
      },
      "execution_count": 104,
      "outputs": []
    },
    {
      "cell_type": "code",
      "source": [
        "def read_data(file):\n",
        "  df = pd.read_parquet(file)\n",
        "\n",
        "  df['tpep_pickup_datetime'] = pd.to_datetime(df['tpep_pickup_datetime'])\n",
        "  df['tpep_dropoff_datetime'] = pd.to_datetime(df['tpep_dropoff_datetime'])\n",
        "\n",
        "  df['duration'] = df['tpep_dropoff_datetime'] - df['tpep_pickup_datetime']\n",
        "  df['duration'] = df['duration'].apply(lambda x: x.total_seconds()/60)\n",
        "\n",
        "  df = df[(df['duration'] >= 1) & (df['duration'] <= 60)]\n",
        "\n",
        "  return df"
      ],
      "metadata": {
        "id": "RpT3qsHq0V1R"
      },
      "execution_count": 119,
      "outputs": []
    },
    {
      "cell_type": "code",
      "source": [
        "df_train = read_data('/content/yellow_tripdata_2023-01.parquet')\n",
        "df_val = read_data('/content/yellow_tripdata_2023-02.parquet')"
      ],
      "metadata": {
        "id": "ehFCBzRcIz1b"
      },
      "execution_count": 120,
      "outputs": []
    },
    {
      "cell_type": "code",
      "source": [
        "data_to_encode = ['PULocationID', 'DOLocationID']\n",
        "df_train[data_to_encode] = df_train[data_to_encode].astype(str)\n",
        "df_val[data_to_encode] = df_val[data_to_encode].astype(str)"
      ],
      "metadata": {
        "id": "lCMoB5NlK0S7"
      },
      "execution_count": 122,
      "outputs": []
    },
    {
      "cell_type": "code",
      "source": [
        "train_dict = df_train[data_to_encode].to_dict(orient='records')\n",
        "val_dict = df_val[data_to_encode].to_dict(orient='records')"
      ],
      "metadata": {
        "id": "sSftPoyFJDBs"
      },
      "execution_count": 124,
      "outputs": []
    },
    {
      "cell_type": "code",
      "source": [
        "dict_vectorizer = DictVectorizer()"
      ],
      "metadata": {
        "id": "jHBHpj3SKXeg"
      },
      "execution_count": 125,
      "outputs": []
    },
    {
      "cell_type": "code",
      "source": [
        "X_train = dict_vectorizer.fit_transform(train_dict)"
      ],
      "metadata": {
        "id": "mqK5XV9bLUGY"
      },
      "execution_count": 133,
      "outputs": []
    },
    {
      "cell_type": "code",
      "source": [
        "X_val = dict_vectorizer.transform(val_dict)"
      ],
      "metadata": {
        "id": "JD4GwMReMszR"
      },
      "execution_count": 134,
      "outputs": []
    },
    {
      "cell_type": "code",
      "source": [
        "Y_train = df_train['duration'].values\n",
        "Y_val = df_val['duration'].values"
      ],
      "metadata": {
        "id": "BX6C8XvaLghK"
      },
      "execution_count": 135,
      "outputs": []
    },
    {
      "cell_type": "code",
      "source": [
        "lr = LinearRegression()"
      ],
      "metadata": {
        "id": "aYMI10nQLwmV"
      },
      "execution_count": 136,
      "outputs": []
    },
    {
      "cell_type": "code",
      "source": [
        "lr.fit(X_train, Y_train)\n",
        "Y_pred = lr.predict(X_train)\n",
        "rmse = mean_squared_error(Y_train, Y_pred, squared=False)\n",
        "print(f'RMSE: {rmse}')"
      ],
      "metadata": {
        "colab": {
          "base_uri": "https://localhost:8080/"
        },
        "id": "kyRTvepqL4Ih",
        "outputId": "3770cdbe-9188-4652-be51-602df35500ce"
      },
      "execution_count": 137,
      "outputs": [
        {
          "output_type": "stream",
          "name": "stdout",
          "text": [
            "RMSE: 7.649261929771859\n"
          ]
        }
      ]
    },
    {
      "cell_type": "code",
      "source": [
        "Y_val_pred = lr.predict(X_val)\n",
        "rmse_val = mean_squared_error(Y_val, Y_val_pred, squared=False)\n",
        "print(f'RMSE: {rmse_val}')"
      ],
      "metadata": {
        "colab": {
          "base_uri": "https://localhost:8080/"
        },
        "id": "dJa-MnAfML7g",
        "outputId": "c4e8525f-8518-4af4-d927-2ca2d799ea94"
      },
      "execution_count": 138,
      "outputs": [
        {
          "output_type": "stream",
          "name": "stdout",
          "text": [
            "RMSE: 7.811818933419717\n"
          ]
        }
      ]
    },
    {
      "cell_type": "code",
      "source": [],
      "metadata": {
        "id": "4bYj3g1aMjaZ"
      },
      "execution_count": null,
      "outputs": []
    }
  ]
}